{
 "cells": [
  {
   "cell_type": "code",
   "execution_count": 1,
   "metadata": {},
   "outputs": [],
   "source": [
    "%load_ext autoreload\n",
    "\n",
    "%autoreload 2\n",
    "import sys\n",
    "sys.path.append(\"..\") \n",
    "import numpy as np\n",
    "from stdogvis.main import StDoGClient"
   ]
  },
  {
   "cell_type": "code",
   "execution_count": 2,
   "metadata": {},
   "outputs": [
    {
     "ename": "TypeError",
     "evalue": "_sort_dispatcher() missing 1 required positional argument: 'a'",
     "output_type": "error",
     "traceback": [
      "\u001b[0;31m---------------------------------------------------------------------------\u001b[0m",
      "\u001b[0;31mTypeError\u001b[0m                                 Traceback (most recent call last)",
      "\u001b[0;32m<ipython-input-2-e15e7fb677a4>\u001b[0m in \u001b[0;36m<module>\u001b[0;34m\u001b[0m\n\u001b[0;32m----> 1\u001b[0;31m \u001b[0mnp\u001b[0m\u001b[0;34m.\u001b[0m\u001b[0msort\u001b[0m\u001b[0;34m(\u001b[0m\u001b[0;34m)\u001b[0m\u001b[0;34m\u001b[0m\u001b[0;34m\u001b[0m\u001b[0m\n\u001b[0m",
      "\u001b[0;32m<__array_function__ internals>\u001b[0m in \u001b[0;36msort\u001b[0;34m(*args, **kwargs)\u001b[0m\n",
      "\u001b[0;31mTypeError\u001b[0m: _sort_dispatcher() missing 1 required positional argument: 'a'"
     ]
    }
   ],
   "source": [
    "np.sort()"
   ]
  },
  {
   "cell_type": "code",
   "execution_count": 5,
   "metadata": {},
   "outputs": [
    {
     "name": "stdout",
     "output_type": "stream",
     "text": [
      "{'state': 'success', 'msg': \"You're inside pyObj room\"}\n",
      "{'state': 'success', 'asked to protagonist webclient': 'msg'}\n",
      "recived img\n",
      "recived img\n"
     ]
    },
    {
     "name": "stderr",
     "output_type": "stream",
     "text": [
      "Exception in thread Thread-16:\n",
      "Traceback (most recent call last):\n",
      "  File \"/usr/lib/python3.7/threading.py\", line 917, in _bootstrap_inner\n",
      "    self.run()\n",
      "  File \"/usr/lib/python3.7/threading.py\", line 865, in run\n",
      "    self._target(*self._args, **self._kwargs)\n",
      "  File \"/home/devmessias/envs/jupyter/lib/python3.7/site-packages/socketio/client.py\", line 616, in _handle_eio_message\n",
      "    self._handle_event(pkt.namespace, pkt.id, pkt.data)\n",
      "  File \"/home/devmessias/envs/jupyter/lib/python3.7/site-packages/socketio/client.py\", line 500, in _handle_event\n",
      "    r = self._trigger_event(data[0], namespace, *data[1:])\n",
      "  File \"/home/devmessias/envs/jupyter/lib/python3.7/site-packages/socketio/client.py\", line 555, in _trigger_event\n",
      "    event, *args)\n",
      "  File \"/home/devmessias/envs/jupyter/lib/python3.7/site-packages/socketio/namespace.py\", line 18, in trigger_event\n",
      "    return getattr(self, handler_name)(*args)\n",
      "  File \"../stdogvis/main.py\", line 82, in on_reciveRenderedImg\n",
      "    self.client.storeImg(data['imgUri'], data['time'])\n",
      "KeyError: 'imgUri'\n",
      "\n",
      "Exception in thread Thread-17:\n",
      "Traceback (most recent call last):\n",
      "  File \"/usr/lib/python3.7/threading.py\", line 917, in _bootstrap_inner\n",
      "    self.run()\n",
      "  File \"/usr/lib/python3.7/threading.py\", line 865, in run\n",
      "    self._target(*self._args, **self._kwargs)\n",
      "  File \"/home/devmessias/envs/jupyter/lib/python3.7/site-packages/socketio/client.py\", line 616, in _handle_eio_message\n",
      "    self._handle_event(pkt.namespace, pkt.id, pkt.data)\n",
      "  File \"/home/devmessias/envs/jupyter/lib/python3.7/site-packages/socketio/client.py\", line 500, in _handle_event\n",
      "    r = self._trigger_event(data[0], namespace, *data[1:])\n",
      "  File \"/home/devmessias/envs/jupyter/lib/python3.7/site-packages/socketio/client.py\", line 555, in _trigger_event\n",
      "    event, *args)\n",
      "  File \"/home/devmessias/envs/jupyter/lib/python3.7/site-packages/socketio/namespace.py\", line 18, in trigger_event\n",
      "    return getattr(self, handler_name)(*args)\n",
      "  File \"../stdogvis/main.py\", line 82, in on_reciveRenderedImg\n",
      "    self.client.storeImg(data['imgUri'], data['time'])\n",
      "KeyError: 'imgUri'\n",
      "\n"
     ]
    }
   ],
   "source": [
    "sio = StDoGClient()\n",
    "sio.external('http://localhost:5000')\n",
    "sio.renderMyImg( transparency=True)"
   ]
  },
  {
   "cell_type": "code",
   "execution_count": 4,
   "metadata": {},
   "outputs": [
    {
     "data": {
      "text/plain": [
       "{}"
      ]
     },
     "execution_count": 4,
     "metadata": {},
     "output_type": "execute_result"
    }
   ],
   "source": [
    "sio.imgURI"
   ]
  },
  {
   "cell_type": "code",
   "execution_count": 9,
   "metadata": {},
   "outputs": [
    {
     "ename": "IndexError",
     "evalue": "index 0 is out of bounds for axis 0 with size 0",
     "output_type": "error",
     "traceback": [
      "\u001b[0;31m---------------------------------------------------------------------------\u001b[0m",
      "\u001b[0;31mIndexError\u001b[0m                                Traceback (most recent call last)",
      "\u001b[0;32m<ipython-input-9-7417f28bb55a>\u001b[0m in \u001b[0;36m<module>\u001b[0;34m\u001b[0m\n\u001b[0;32m----> 1\u001b[0;31m \u001b[0msio\u001b[0m\u001b[0;34m.\u001b[0m\u001b[0mgetImg\u001b[0m\u001b[0;34m(\u001b[0m\u001b[0;34m)\u001b[0m\u001b[0;34m\u001b[0m\u001b[0;34m\u001b[0m\u001b[0m\n\u001b[0m",
      "\u001b[0;32m~/phd/vistree/projectviz/web/python/stdogvis/main.py\u001b[0m in \u001b[0;36mgetImg\u001b[0;34m(self, historyId)\u001b[0m\n\u001b[1;32m    112\u001b[0m \u001b[0;34m\u001b[0m\u001b[0m\n\u001b[1;32m    113\u001b[0m     \u001b[0;32mdef\u001b[0m \u001b[0mgetImg\u001b[0m\u001b[0;34m(\u001b[0m\u001b[0mself\u001b[0m\u001b[0;34m,\u001b[0m \u001b[0mhistoryId\u001b[0m\u001b[0;34m=\u001b[0m\u001b[0;36m0\u001b[0m\u001b[0;34m)\u001b[0m\u001b[0;34m:\u001b[0m\u001b[0;34m\u001b[0m\u001b[0;34m\u001b[0m\u001b[0m\n\u001b[0;32m--> 114\u001b[0;31m         \u001b[0mi\u001b[0m \u001b[0;34m=\u001b[0m \u001b[0mnp\u001b[0m\u001b[0;34m.\u001b[0m\u001b[0msort\u001b[0m\u001b[0;34m(\u001b[0m\u001b[0mlist\u001b[0m\u001b[0;34m(\u001b[0m\u001b[0mself\u001b[0m\u001b[0;34m.\u001b[0m\u001b[0mimgURI\u001b[0m\u001b[0;34m.\u001b[0m\u001b[0mkeys\u001b[0m\u001b[0;34m(\u001b[0m\u001b[0;34m)\u001b[0m\u001b[0;34m)\u001b[0m\u001b[0;34m)\u001b[0m\u001b[0;34m[\u001b[0m\u001b[0;34m:\u001b[0m\u001b[0;34m:\u001b[0m\u001b[0;34m-\u001b[0m\u001b[0;36m1\u001b[0m\u001b[0;34m]\u001b[0m\u001b[0;34m[\u001b[0m\u001b[0mhistoryId\u001b[0m\u001b[0;34m]\u001b[0m\u001b[0;34m\u001b[0m\u001b[0;34m\u001b[0m\u001b[0m\n\u001b[0m\u001b[1;32m    115\u001b[0m         \u001b[0mimg\u001b[0m \u001b[0;34m=\u001b[0m \u001b[0mb64toImg\u001b[0m\u001b[0;34m(\u001b[0m\u001b[0mself\u001b[0m\u001b[0;34m.\u001b[0m\u001b[0mimgURI\u001b[0m\u001b[0;34m[\u001b[0m\u001b[0mi\u001b[0m\u001b[0;34m]\u001b[0m\u001b[0;34m)\u001b[0m\u001b[0;34m\u001b[0m\u001b[0;34m\u001b[0m\u001b[0m\n\u001b[1;32m    116\u001b[0m         \u001b[0mself\u001b[0m\u001b[0;34m.\u001b[0m\u001b[0mimg\u001b[0m \u001b[0;34m=\u001b[0m \u001b[0mimg\u001b[0m\u001b[0;34m\u001b[0m\u001b[0;34m\u001b[0m\u001b[0m\n",
      "\u001b[0;31mIndexError\u001b[0m: index 0 is out of bounds for axis 0 with size 0"
     ]
    }
   ],
   "source": [
    "\n",
    "sio.getImg()"
   ]
  },
  {
   "cell_type": "code",
   "execution_count": 25,
   "metadata": {},
   "outputs": [],
   "source": [
    "import igraph as ig\n",
    "n=1000\n",
    "g = ig.Graph.Barabasi(n, 3)\n"
   ]
  },
  {
   "cell_type": "code",
   "execution_count": 26,
   "metadata": {},
   "outputs": [],
   "source": [
    "coords = g.layout_fruchterman_reingold_3d(niter = 100)"
   ]
  },
  {
   "cell_type": "code",
   "execution_count": 27,
   "metadata": {},
   "outputs": [
    {
     "name": "stdout",
     "output_type": "stream",
     "text": [
      "{'state': 'success', 'msg': 'graph recived'}\n"
     ]
    }
   ],
   "source": [
    "sio.sendGraph(g)"
   ]
  },
  {
   "cell_type": "code",
   "execution_count": 30,
   "metadata": {},
   "outputs": [
    {
     "data": {
      "image/png": "[encoded data removed]",
      "text/plain": [
       "<PIL.PngImagePlugin.PngImageFile image mode=RGBA size=220x220 at 0x7F5D8028AA58>"
      ]
     },
     "execution_count": 30,
     "metadata": {},
     "output_type": "execute_result"
    },
    {
     "name": "stdout",
     "output_type": "stream",
     "text": [
      "{'state': 'success', 'asked to protagonist webclient': 'msg'}\n",
      "recived img\n",
      "recived img\n",
      "recived img\n",
      "{'state': 'success', 'msg': \"You're inside pyObj room\"}\n",
      "{'state': 'success', 'msg': \"You're inside pyObj room\"}\n",
      "{'state': 'success', 'msg': \"You're inside pyObj room\"}\n"
     ]
    }
   ],
   "source": [
    "sio.renderMyImg( transparency=True)\n",
    "sio.getImg()"
   ]
  },
  {
   "cell_type": "code",
   "execution_count": 15,
   "metadata": {},
   "outputs": [
    {
     "name": "stderr",
     "output_type": "stream",
     "text": [
      "packet queue is empty, aborting\n",
      "packet queue is empty, aborting\n"
     ]
    },
    {
     "name": "stdout",
     "output_type": "stream",
     "text": [
      "{'state': 'success', 'msg': \"You're inside pyObj room\"}\n",
      "{'state': 'success', 'msg': \"You're inside pyObj room\"}\n"
     ]
    }
   ],
   "source": []
  },
  {
   "cell_type": "code",
   "execution_count": 17,
   "metadata": {},
   "outputs": [],
   "source": [
    "g.vs[\"pos\"] = coords"
   ]
  },
  {
   "cell_type": "code",
   "execution_count": 21,
   "metadata": {},
   "outputs": [
    {
     "data": {
      "text/plain": [
       "[-7.361609085023319, 14.079096692133472, 6.661571183801742]"
      ]
     },
     "execution_count": 21,
     "metadata": {},
     "output_type": "execute_result"
    },
    {
     "name": "stdout",
     "output_type": "stream",
     "text": [
      "{'state': 'success', 'msg': \"You're inside pyObj room\"}\n",
      "{'state': 'success', 'msg': \"You're inside pyObj room\"}\n"
     ]
    }
   ],
   "source": [
    "g.vs[0][\"pos\"]"
   ]
  },
  {
   "cell_type": "code",
   "execution_count": 22,
   "metadata": {},
   "outputs": [
    {
     "name": "stdout",
     "output_type": "stream",
     "text": [
      "['__class__', '__delattr__', '__delitem__', '__dir__', '__doc__', '__eq__', '__format__', '__ge__', '__getattribute__', '__getitem__', '__gt__', '__hash__', '__init__', '__init_subclass__', '__le__', '__len__', '__lt__', '__ne__', '__new__', '__reduce__', '__reduce_ex__', '__repr__', '__setattr__', '__setitem__', '__sizeof__', '__str__', '__subclasshook__', 'attribute_names', 'attributes', 'count_multiple', 'delete', 'graph', 'index', 'is_loop', 'is_multiple', 'is_mutual', 'source', 'source_vertex', 'target', 'target_vertex', 'tuple', 'update_attributes', 'vertex_tuple']\n"
     ]
    }
   ],
   "source": [
    "print(dir(g.es[0]))"
   ]
  },
  {
   "cell_type": "code",
   "execution_count": 52,
   "metadata": {},
   "outputs": [
    {
     "data": {
      "text/plain": [
       "1.0"
      ]
     },
     "execution_count": 52,
     "metadata": {},
     "output_type": "execute_result"
    }
   ],
   "source": [
    "g.es[0][\"value\"]"
   ]
  },
  {
   "cell_type": "code",
   "execution_count": 13,
   "metadata": {},
   "outputs": [],
   "source": [
    "import numpy as np\n",
    "import igraph as ig\n",
    "State = {}\n"
   ]
  },
  {
   "cell_type": "code",
   "execution_count": 10,
   "metadata": {},
   "outputs": [],
   "source": [
    "import pickle\n",
    "State = {}\n",
    "g = pickle.load(open(\"../stdogvis/bin/graph.ml\", \"rb\"))\n",
    "\n",
    "n = g.vcount()\n",
    "nodes = {}    \n",
    "defaultProps = g.vs[0].attribute_names()\n",
    "posInProps = \"pos\" in defaultProps\n",
    "\n",
    "if posInProps:\n",
    "    nodes[\"pos\"] = []\n",
    "else:\n",
    "    layout = g.layout_kamada_kawai_3d()\n",
    "    nodes[\"pos\"] = np.array( layout.coords).flatten().tolist()\n",
    "\n",
    "    \n",
    "nodesId = {\n",
    "    n:n for n in range(n)\n",
    "}\n",
    "\n",
    "    \n",
    "nodes[\"id\"] = nodesId\n",
    "nodes[\"props\"] = defaultProps\n",
    "for prop in defaultProps:\n",
    "    for node in g.vs:\n",
    "        if prop == \"pos\":\n",
    "            for node in g.vs:\n",
    "                nodes[\"pos\"] += list(n[\"pos\"])\n",
    "        else:\n",
    "            nodes[prop] = []\n",
    "            for node in g.vs:\n",
    "                nodeInfo = node\n",
    "                value = nodeInfo[prop] if prop in node.attribute_names() else 0\n",
    "                nodes[prop].append(value)\n",
    "\n",
    "\n",
    "edges = {}\n",
    "defaultEdgeProps = g.es[0].attribute_names()\n",
    "\n",
    "\n",
    "edges[\"nodes\"] = [[e.source, e.target] for e in g.es]\n",
    "for prop in defaultEdgeProps:\n",
    "    edges[prop] = [e[prop] for e in g.es]\n",
    "\n",
    "edges[\"props\"] = defaultEdgeProps\n",
    "State[\"nodes\"] = nodes\n",
    "State[\"edges\"] = edges\n",
    "\n",
    "State[\"graphLoaded\"] = True\n",
    "State[\"numNodes\"] = n\n",
    "State[\"defaultProps\"] = defaultProps\n",
    "State[\"defaultEdgeProps\"] = defaultEdgeProps\n",
    "\n",
    "\n"
   ]
  },
  {
   "cell_type": "code",
   "execution_count": 36,
   "metadata": {},
   "outputs": [
    {
     "data": {
      "text/plain": [
       "<networkx.classes.graph.Graph at 0x7f5d66e88f98>"
      ]
     },
     "execution_count": 36,
     "metadata": {},
     "output_type": "execute_result"
    }
   ],
   "source": [
    "import networkx as nx\n",
    "nx.read_gml(\"../../../lesmiserables.gml\")"
   ]
  },
  {
   "cell_type": "code",
   "execution_count": 37,
   "metadata": {},
   "outputs": [],
   "source": [
    "g = ig.read(\"../../../lesmiserables.gml\")"
   ]
  },
  {
   "cell_type": "code",
   "execution_count": 45,
   "metadata": {},
   "outputs": [
    {
     "data": {
      "text/plain": [
       "True"
      ]
     },
     "execution_count": 45,
     "metadata": {},
     "output_type": "execute_result"
    }
   ],
   "source": []
  },
  {
   "cell_type": "code",
   "execution_count": 42,
   "metadata": {},
   "outputs": [
    {
     "data": {
      "text/plain": [
       "igraph.Vertex(<igraph.Graph object at 0x7f5d678c8c78>, 0, {'id': 0.0, 'label': 'Myriel'})"
      ]
     },
     "execution_count": 42,
     "metadata": {},
     "output_type": "execute_result"
    }
   ],
   "source": [
    "g.vs[0]"
   ]
  },
  {
   "cell_type": "code",
   "execution_count": 73,
   "metadata": {},
   "outputs": [
    {
     "data": {
      "text/plain": [
       "22"
      ]
     },
     "execution_count": 73,
     "metadata": {},
     "output_type": "execute_result"
    }
   ],
   "source": []
  },
  {
   "cell_type": "code",
   "execution_count": 6,
   "metadata": {},
   "outputs": [
    {
     "data": {
      "text/plain": [
       "<matplotlib.image.AxesImage at 0x7fece85beba8>"
      ]
     },
     "execution_count": 6,
     "metadata": {},
     "output_type": "execute_result"
    },
    {
     "data": {
      "image/png": "[encoded data removed]",
      "text/plain": [
       "<Figure size 432x288 with 1 Axes>"
      ]
     },
     "metadata": {
      "needs_background": "light"
     },
     "output_type": "display_data"
    }
   ],
   "source": []
  },
  {
   "cell_type": "code",
   "execution_count": 60,
   "metadata": {},
   "outputs": [
    {
     "ename": "Error",
     "evalue": "Incorrect padding",
     "output_type": "error",
     "traceback": [
      "\u001b[0;31m---------------------------------------------------------------------------\u001b[0m",
      "\u001b[0;31mError\u001b[0m                                     Traceback (most recent call last)",
      "\u001b[0;32m<ipython-input-60-a951308f1967>\u001b[0m in \u001b[0;36m<module>\u001b[0;34m\u001b[0m\n\u001b[1;32m      5\u001b[0m \u001b[0;34m\u001b[0m\u001b[0m\n\u001b[1;32m      6\u001b[0m \u001b[0;34m\u001b[0m\u001b[0m\n\u001b[0;32m----> 7\u001b[0;31m \u001b[0mim\u001b[0m \u001b[0;34m=\u001b[0m \u001b[0mImage\u001b[0m\u001b[0;34m.\u001b[0m\u001b[0mopen\u001b[0m\u001b[0;34m(\u001b[0m\u001b[0mBytesIO\u001b[0m\u001b[0;34m(\u001b[0m\u001b[0mbase64\u001b[0m\u001b[0;34m.\u001b[0m\u001b[0mb64decode\u001b[0m\u001b[0;34m(\u001b[0m\u001b[0mimg\u001b[0m\u001b[0;34m)\u001b[0m\u001b[0;34m)\u001b[0m\u001b[0;34m)\u001b[0m\u001b[0;34m\u001b[0m\u001b[0;34m\u001b[0m\u001b[0m\n\u001b[0m",
      "\u001b[0;32m/usr/lib/python3.7/base64.py\u001b[0m in \u001b[0;36mb64decode\u001b[0;34m(s, altchars, validate)\u001b[0m\n\u001b[1;32m     85\u001b[0m     \u001b[0;32mif\u001b[0m \u001b[0mvalidate\u001b[0m \u001b[0;32mand\u001b[0m \u001b[0;32mnot\u001b[0m \u001b[0mre\u001b[0m\u001b[0;34m.\u001b[0m\u001b[0mmatch\u001b[0m\u001b[0;34m(\u001b[0m\u001b[0;34mb'^[A-Za-z0-9+/]*={0,2}$'\u001b[0m\u001b[0;34m,\u001b[0m \u001b[0ms\u001b[0m\u001b[0;34m)\u001b[0m\u001b[0;34m:\u001b[0m\u001b[0;34m\u001b[0m\u001b[0;34m\u001b[0m\u001b[0m\n\u001b[1;32m     86\u001b[0m         \u001b[0;32mraise\u001b[0m \u001b[0mbinascii\u001b[0m\u001b[0;34m.\u001b[0m\u001b[0mError\u001b[0m\u001b[0;34m(\u001b[0m\u001b[0;34m'Non-base64 digit found'\u001b[0m\u001b[0;34m)\u001b[0m\u001b[0;34m\u001b[0m\u001b[0;34m\u001b[0m\u001b[0m\n\u001b[0;32m---> 87\u001b[0;31m     \u001b[0;32mreturn\u001b[0m \u001b[0mbinascii\u001b[0m\u001b[0;34m.\u001b[0m\u001b[0ma2b_base64\u001b[0m\u001b[0;34m(\u001b[0m\u001b[0ms\u001b[0m\u001b[0;34m)\u001b[0m\u001b[0;34m\u001b[0m\u001b[0;34m\u001b[0m\u001b[0m\n\u001b[0m\u001b[1;32m     88\u001b[0m \u001b[0;34m\u001b[0m\u001b[0m\n\u001b[1;32m     89\u001b[0m \u001b[0;34m\u001b[0m\u001b[0m\n",
      "\u001b[0;31mError\u001b[0m: Incorrect padding"
     ]
    }
   ],
   "source": []
  },
  {
   "cell_type": "code",
   "execution_count": null,
   "metadata": {},
   "outputs": [],
   "source": []
  },
  {
   "cell_type": "code",
   "execution_count": 55,
   "metadata": {},
   "outputs": [
    {
     "name": "stdout",
     "output_type": "stream",
     "text": [
      "{'state': 'success', 'msg': \"You're inside pyObj room\"}\n"
     ]
    }
   ],
   "source": [
    "def connect(data):\n",
    "    print(data)\n",
    "sio.emit(\"joinRoom\",callback=connect, data={\"room\":\"pyObj\"})"
   ]
  },
  {
   "cell_type": "code",
   "execution_count": 135,
   "metadata": {},
   "outputs": [
    {
     "name": "stdout",
     "output_type": "stream",
     "text": [
      "{'state': 'success', 'msg': ''}\n"
     ]
    }
   ],
   "source": [
    "def connect(data):\n",
    "    print(data)\n",
    "sio.emit(\"imTheProtagonist\",callback=connect, data={\"room\":\"webClient\"})"
   ]
  },
  {
   "cell_type": "code",
   "execution_count": 11,
   "metadata": {},
   "outputs": [],
   "source": [
    "def connect(data):\n",
    "    print(data)\n",
    "sio.emit(\"renderMyImg\",callback=connect)"
   ]
  },
  {
   "cell_type": "code",
   "execution_count": 87,
   "metadata": {},
   "outputs": [
    {
     "name": "stdout",
     "output_type": "stream",
     "text": [
      "<Task finished coro=<hello() done, defined at <ipython-input-79-3bd577214078>:1> result='{\"type\": \"info\", \"count\": 1}'>\n"
     ]
    }
   ],
   "source": [
    "def teste(t):\n",
    "    print(t)\n",
    "try:\n",
    "    loop = asyncio.get_running_loop()\n",
    "except RuntimeError:  # if cleanup: 'RuntimeError: There is no current event loop..'\n",
    "    loop = None\n",
    "\n",
    "if loop and loop.is_running():\n",
    "    #print('Async event loop already running')\n",
    "    tsk = loop.create_task(hello())\n",
    "    tsk.add_done_callback(teste)  # optional (using py38)\n",
    "else:\n",
    "    print('Starting new event loop')\n",
    "    asyncio.run(main())\n"
   ]
  },
  {
   "cell_type": "code",
   "execution_count": 75,
   "metadata": {},
   "outputs": [
    {
     "name": "stdout",
     "output_type": "stream",
     "text": [
      "{\"type\": \"info\", \"count\": 1}\n"
     ]
    }
   ],
   "source": [
    "    \n",
    "print(imgURI)"
   ]
  },
  {
   "cell_type": "code",
   "execution_count": null,
   "metadata": {},
   "outputs": [],
   "source": []
  }
 ],
 "metadata": {
  "kernelspec": {
   "display_name": "Python 3",
   "language": "python",
   "name": "python3"
  },
  "language_info": {
   "codemirror_mode": {
    "name": "ipython",
    "version": 3
   },
   "file_extension": ".py",
   "mimetype": "text/x-python",
   "name": "python",
   "nbconvert_exporter": "python",
   "pygments_lexer": "ipython3",
   "version": "3.7.3"
  }
 },
 "nbformat": 4,
 "nbformat_minor": 4
}
